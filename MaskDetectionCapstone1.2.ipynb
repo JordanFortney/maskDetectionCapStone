{
 "cells": [
  {
   "cell_type": "code",
   "execution_count": 10,
   "metadata": {},
   "outputs": [],
   "source": [
    "import numpy as np\n",
    "import pandas as pd\n",
    "import tensorflow as tf\n",
    "from  matplotlib import pyplot as plt\n",
    "\n",
    "from tensorflow import keras\n",
    "from tensorflow.keras import layers\n",
    "from tensorflow.keras.models import Sequential"
   ]
  },
  {
   "cell_type": "code",
   "execution_count": 2,
   "metadata": {},
   "outputs": [],
   "source": [
    "directory = 'mask_detection/'"
   ]
  },
  {
   "cell_type": "code",
   "execution_count": 3,
   "metadata": {},
   "outputs": [
    {
     "name": "stdout",
     "output_type": "stream",
     "text": [
      "Found 2382 files belonging to 2 classes.\n",
      "Using 1668 files for training.\n"
     ]
    }
   ],
   "source": [
    "maskTrain = tf.keras.preprocessing.image_dataset_from_directory(\n",
    "    directory,\n",
    "    validation_split=0.3,\n",
    "    subset=\"training\",\n",
    "    labels=\"inferred\",\n",
    "    label_mode=\"int\",\n",
    "    color_mode=\"rgb\",\n",
    "    batch_size=32,\n",
    "    image_size=(152, 152),\n",
    "    shuffle=True,\n",
    "    seed = 12,\n",
    "    interpolation=\"bilinear\"\n",
    ")"
   ]
  },
  {
   "cell_type": "code",
   "execution_count": 4,
   "metadata": {},
   "outputs": [
    {
     "name": "stdout",
     "output_type": "stream",
     "text": [
      "Found 2382 files belonging to 2 classes.\n",
      "Using 714 files for validation.\n"
     ]
    }
   ],
   "source": [
    "maskVal = tf.keras.preprocessing.image_dataset_from_directory(\n",
    "    directory,\n",
    "    validation_split=0.3,\n",
    "    subset=\"validation\",\n",
    "    labels=\"inferred\",\n",
    "    label_mode=\"int\",\n",
    "    color_mode=\"rgb\",\n",
    "    batch_size=32,\n",
    "    image_size=(152, 152),\n",
    "    shuffle=True,\n",
    "    seed = 12,\n",
    "    interpolation=\"bilinear\"\n",
    ")"
   ]
  },
  {
   "cell_type": "code",
   "execution_count": 14,
   "metadata": {},
   "outputs": [
    {
     "name": "stdout",
     "output_type": "stream",
     "text": [
      "Model: \"sequential_2\"\n",
      "_________________________________________________________________\n",
      "Layer (type)                 Output Shape              Param #   \n",
      "=================================================================\n",
      "rescaling_3 (Rescaling)      (None, 152, 152, 3)       0         \n",
      "_________________________________________________________________\n",
      "conv2d_2 (Conv2D)            (None, 150, 150, 32)      896       \n",
      "_________________________________________________________________\n",
      "conv2d_3 (Conv2D)            (None, 148, 148, 64)      18496     \n",
      "_________________________________________________________________\n",
      "max_pooling2d_1 (MaxPooling2 (None, 74, 74, 64)        0         \n",
      "_________________________________________________________________\n",
      "dropout_2 (Dropout)          (None, 74, 74, 64)        0         \n",
      "_________________________________________________________________\n",
      "flatten_1 (Flatten)          (None, 350464)            0         \n",
      "_________________________________________________________________\n",
      "dense_1 (Dense)              (None, 128)               44859520  \n",
      "_________________________________________________________________\n",
      "dropout_3 (Dropout)          (None, 128)               0         \n",
      "_________________________________________________________________\n",
      "dense_2 (Dense)              (None, 2)                 258       \n",
      "=================================================================\n",
      "Total params: 44,879,170\n",
      "Trainable params: 44,879,170\n",
      "Non-trainable params: 0\n",
      "_________________________________________________________________\n"
     ]
    }
   ],
   "source": [
    "maskModelCNN = Sequential()\n",
    "\n",
    "maskModelCNN.add(layers.experimental.preprocessing.Rescaling(1./255, input_shape=(152, 152, 3)),)\n",
    "maskModelCNN.add(layers.Conv2D(32, kernel_size=(3, 3), activation = 'relu'))\n",
    "maskModelCNN.add(layers.Conv2D(64, (3, 3), activation='relu'))\n",
    "maskModelCNN.add(layers.MaxPooling2D(pool_size=(2, 2)))\n",
    "\n",
    "maskModelCNN.add(layers.Dropout(0.25))\n",
    "maskModelCNN.add(layers.Flatten())\n",
    "maskModelCNN.add(layers.Dense(128, activation='relu'))\n",
    "maskModelCNN.add(layers.Dropout(0.5))\n",
    "maskModelCNN.add(layers.Dense(2, activation='softmax'))\n",
    "\n",
    "# Print out a summary of the network\n",
    "maskModelCNN.summary()"
   ]
  },
  {
   "cell_type": "code",
   "execution_count": 15,
   "metadata": {},
   "outputs": [],
   "source": [
    "maskModelCNN.compile(loss = 'sparse_categorical_crossentropy',\n",
    "                  optimizer = 'Adam',\n",
    "                  metrics = ['accuracy'])"
   ]
  },
  {
   "cell_type": "code",
   "execution_count": 16,
   "metadata": {},
   "outputs": [
    {
     "name": "stdout",
     "output_type": "stream",
     "text": [
      "Epoch 1/10\n",
      "53/53 [==============================] - 62s 1s/step - loss: 5.9557 - accuracy: 0.4895 - val_loss: 0.6886 - val_accuracy: 0.5420\n",
      "Epoch 2/10\n",
      "53/53 [==============================] - 61s 1s/step - loss: 0.6562 - accuracy: 0.6241 - val_loss: 0.6676 - val_accuracy: 0.6022\n",
      "Epoch 3/10\n",
      "53/53 [==============================] - 61s 1s/step - loss: 0.5738 - accuracy: 0.7169 - val_loss: 0.6015 - val_accuracy: 0.6891\n",
      "Epoch 4/10\n",
      "53/53 [==============================] - 61s 1s/step - loss: 0.4413 - accuracy: 0.7910 - val_loss: 0.7218 - val_accuracy: 0.6681\n",
      "Epoch 5/10\n",
      "53/53 [==============================] - 61s 1s/step - loss: 0.2560 - accuracy: 0.9083 - val_loss: 0.8829 - val_accuracy: 0.6653\n",
      "Epoch 6/10\n",
      "53/53 [==============================] - 61s 1s/step - loss: 0.1436 - accuracy: 0.9573 - val_loss: 1.0298 - val_accuracy: 0.6583\n",
      "Epoch 7/10\n",
      "53/53 [==============================] - 61s 1s/step - loss: 0.0987 - accuracy: 0.9733 - val_loss: 1.1107 - val_accuracy: 0.6569\n",
      "Epoch 8/10\n",
      "53/53 [==============================] - 61s 1s/step - loss: 0.0646 - accuracy: 0.9803 - val_loss: 1.0054 - val_accuracy: 0.6779\n",
      "Epoch 9/10\n",
      "53/53 [==============================] - 61s 1s/step - loss: 0.0266 - accuracy: 0.9968 - val_loss: 1.0433 - val_accuracy: 0.6723\n",
      "Epoch 10/10\n",
      "53/53 [==============================] - 61s 1s/step - loss: 0.0347 - accuracy: 0.9946 - val_loss: 1.2392 - val_accuracy: 0.6597\n"
     ]
    },
    {
     "data": {
      "text/plain": [
       "<tensorflow.python.keras.callbacks.History at 0x1beed273970>"
      ]
     },
     "execution_count": 16,
     "metadata": {},
     "output_type": "execute_result"
    }
   ],
   "source": [
    "maskModelCNN.fit(maskTrain,\n",
    "              epochs = 10,\n",
    "              verbose = 1,\n",
    "              validation_data = maskVal)"
   ]
  }
 ],
 "metadata": {
  "kernelspec": {
   "display_name": "deeplearning",
   "language": "python",
   "name": "deeplearning"
  },
  "language_info": {
   "codemirror_mode": {
    "name": "ipython",
    "version": 3
   },
   "file_extension": ".py",
   "mimetype": "text/x-python",
   "name": "python",
   "nbconvert_exporter": "python",
   "pygments_lexer": "ipython3",
   "version": "3.8.5"
  }
 },
 "nbformat": 4,
 "nbformat_minor": 4
}
