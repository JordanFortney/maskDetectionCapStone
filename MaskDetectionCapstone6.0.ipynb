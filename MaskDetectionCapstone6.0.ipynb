{
 "cells": [
  {
   "cell_type": "markdown",
   "metadata": {},
   "source": [
    "# Mask Detection with a Convoluted Neural Network"
   ]
  },
  {
   "cell_type": "markdown",
   "metadata": {},
   "source": [
    "### Introduction"
   ]
  },
  {
   "cell_type": "markdown",
   "metadata": {},
   "source": [
    "According to the CDC and other health authorities, cloth or medical masks are an effective method of reducing the spread of Covid-19. Many industries are using security guards or other staff members to enforce compliance of mask mandates but an automatic method would be much more efficient. Using still frames from video could be a method of alerting staff of an compliant visitor just like the magnetic detectors in retail stores alert staff when non purchased product is leaving the store. The goal of this project was to develop a model that is capable detecting whether someone is wearing a mask or not and therefore whether they are in compliance with health and safety regulations."
   ]
  },
  {
   "cell_type": "markdown",
   "metadata": {},
   "source": [
    "### Packages"
   ]
  },
  {
   "cell_type": "markdown",
   "metadata": {},
   "source": [
    "The general python utility packages that were used for this project were: Numpy, Pandas, Time, and Matplotlib. The following packages were used to move and load file from the local directory: Glob, cv2, OS, Shutil, and Random. Finally, various Tensorflow and Keras packages were used for the neural network and its evaluation."
   ]
  },
  {
   "cell_type": "code",
   "execution_count": 1,
   "metadata": {},
   "outputs": [],
   "source": [
    "#Baseline utility packages\n",
    "import numpy as np\n",
    "import pandas as pd\n",
    "import tensorflow as tf\n",
    "from  matplotlib import pyplot as plt\n",
    "import time\n",
    "#File Moving Packages\n",
    "import glob\n",
    "import cv2\n",
    "import os\n",
    "import shutil\n",
    "import random\n",
    "#CNN packages\n",
    "from tensorflow import keras\n",
    "from tensorflow.keras import layers\n",
    "from tensorflow.keras.models import Sequential\n",
    "from tensorflow.keras.preprocessing.image import ImageDataGenerator\n",
    "# Performance Metrics\n",
    "from sklearn.metrics import confusion_matrix\n",
    "from sklearn.metrics import accuracy_score\n",
    "\n",
    "import warnings\n",
    "warnings.filterwarnings(\"ignore\")"
   ]
  },
  {
   "cell_type": "markdown",
   "metadata": {},
   "source": [
    "### Data"
   ]
  },
  {
   "cell_type": "markdown",
   "metadata": {},
   "source": [
    "The input data for this project consisted of two datasets downloaded from Kaggle. These datasets are made up of .jpg images belonging to 2 classes, with a mask and without a mask. They can be found [here](https://www.kaggle.com/shanmukh05/mask-detection) and [here](https://www.kaggle.com/omkargurav/face-mask-dataset). Between these two datasets there are 5028 images without masks and 4913 images with masks. These images were then manually cleaned. Photos with the following characteristics were removed from the dateset: duplicates, pre-augmented images, collages, images with logos, and images with added text. The final image counts for each category are: 4465 without a mask and 4295 with a mask."
   ]
  },
  {
   "cell_type": "markdown",
   "metadata": {},
   "source": [
    "### Schema"
   ]
  },
  {
   "cell_type": "markdown",
   "metadata": {},
   "source": [
    "For this project to run you must have the following schema and naming convention inplace within your working directory:\n",
    "\n",
    "    -> yes   \n",
    "    -> no   \n",
    "    -> mask_detection_random   \n",
    "        ---> no   \n",
    "        ---> yes   \n",
    "    -> test_rand   \n",
    "        ---> no   \n",
    "            ----> images   \n",
    "        ---> yes   \n",
    "            ----> images   \n",
    "           \n",
    "The original datasets should be deposited into the '/yes' and '/no' directories within the working directory based on their category of image. The '/yes' and '/no' directories are the directories where all the images are found prior to the randomized split. The '/mask_detection_random' directory is where the train and validation splits are saved while the '/test_rand' directory is where the test split is housed."
   ]
  },
  {
   "cell_type": "markdown",
   "metadata": {},
   "source": [
    "### Exploritory Data Analysis"
   ]
  },
  {
   "cell_type": "markdown",
   "metadata": {},
   "source": [
    "Once the data was cleaned and the file structure implemented a simple exploratory data analysis was conducted. The shape of the train and validation datasets are checked to make sure the correct amount of files exist."
   ]
  },
  {
   "cell_type": "code",
   "execution_count": 2,
   "metadata": {},
   "outputs": [
    {
     "name": "stdout",
     "output_type": "stream",
     "text": [
      "yesData shape = 4080\n",
      "noData shape = 4241\n"
     ]
    }
   ],
   "source": [
    "# reads in images from the '/yes' directory and appends them to an array, prints out the shape\n",
    "yesData = []\n",
    "yesFiles = glob.glob (\"mask_detection_random/yes/*.jpg\")\n",
    "for fileName in yesFiles:\n",
    "    image = cv2.imread(fileName)\n",
    "    yesData.append(image)\n",
    "                      \n",
    "print(f\"yesData shape = {np.array(yesData, dtype=object).shape[0]}\")\n",
    "\n",
    "# reads in images from the '/no' directory and appends them to an array, prints out the shape\n",
    "noData = []\n",
    "noFiles = glob.glob (\"mask_detection_random/no/*.jpg\")\n",
    "for fileName in noFiles:\n",
    "    image = cv2.imread(fileName)\n",
    "    noData.append(image)\n",
    "                      \n",
    "print(f\"noData shape = {np.array(noData, dtype=object).shape[0]}\")"
   ]
  },
  {
   "cell_type": "markdown",
   "metadata": {},
   "source": [
    "The size of a small sample of images was then checked. As you can see they are not uniform and therefore will require resizing before they can be entered into the model."
   ]
  },
  {
   "cell_type": "code",
   "execution_count": 3,
   "metadata": {},
   "outputs": [
    {
     "name": "stdout",
     "output_type": "stream",
     "text": [
      "(933, 1400, 3)\n",
      "(225, 225, 3)\n",
      "(408, 612, 3)\n",
      "(183, 275, 3)\n",
      "(1000, 1500, 3)\n"
     ]
    }
   ],
   "source": [
    "#Grabs various images to check out the sizes\n",
    "print(yesData[0].shape)\n",
    "print(noData[1].shape)\n",
    "print(yesData[2].shape)\n",
    "print(noData[3].shape)\n",
    "print(yesData[4].shape)"
   ]
  },
  {
   "cell_type": "markdown",
   "metadata": {},
   "source": [
    "To decide what standard size the model will intake the range of image heights and widths needs to be analyzed. The images have widths and heights ranging from 29 to 5760 pixels. "
   ]
  },
  {
   "cell_type": "code",
   "execution_count": 4,
   "metadata": {},
   "outputs": [
    {
     "name": "stdout",
     "output_type": "stream",
     "text": [
      "The smallest height is : (29, 3)\n",
      "The smallest width is : (29, 3)\n",
      "The largest height is : (5760, 3)\n",
      "The largest width is : (5760, 3)\n"
     ]
    }
   ],
   "source": [
    "# appends all the image heights and widths for each category\n",
    "lenYes = np.arange(0,len(yesData))\n",
    "lenNo = np.arange(0,len(noData))\n",
    "height = []\n",
    "width = []\n",
    "\n",
    "for h in lenYes:\n",
    "    height.append(yesData[h][0].shape)\n",
    "\n",
    "for h in lenNo:\n",
    "    height.append(noData[h][0].shape)\n",
    "    \n",
    "for h in lenYes:\n",
    "    width.append(yesData[h][1].shape)\n",
    "\n",
    "for h in lenNo:\n",
    "    width.append(noData[h][1].shape)\n",
    "    \n",
    "# prints out the min and max heights and widths for each category    \n",
    "print(f\"The smallest height is : {min(height)}\")\n",
    "print(f\"The smallest width is : {min(width)}\")\n",
    "print(f\"The largest height is : {max(height)}\")\n",
    "print(f\"The largest width is : {max(width)}\")"
   ]
  },
  {
   "cell_type": "markdown",
   "metadata": {},
   "source": [
    "### Functions"
   ]
  },
  {
   "cell_type": "markdown",
   "metadata": {},
   "source": [
    "The end goal of this project is to run multiple iterations of the model with different randomized splits of data. For that to be efficiently written various functions were designed to perform each step of the project. "
   ]
  },
  {
   "cell_type": "markdown",
   "metadata": {},
   "source": [
    "##### randomMove\n",
    "The first function that is run will take all the files out of the train, validation, and test directories and move them all into the base source directories. It will then determine the number of files to move into the train and validation group based on a defined fraction. It then randomly selects photos from the source directory and moves them into the train/validation directory until it contains the number of files determined in the previous step. The remaining files are then moved into the test directory. This function needs to be run once for each category.    \n",
    "\n",
    "Inputs:\n",
    "* srcDir: The relative address of the source directory where all the images are agglomerated\n",
    "* trainDir: The relative address of the train/validation directory\n",
    "* testDir: The relative address of the test directory\n",
    "* splitFrac: the percentage of images that are to be moved into the train/validation directory\n",
    "\n",
    "Returns:\n",
    "* None"
   ]
  },
  {
   "cell_type": "code",
   "execution_count": 5,
   "metadata": {},
   "outputs": [],
   "source": [
    "def randomMove(srcDir, trainDir, testDir, splitFrac):\n",
    "    #Move all files back into the source directory from the train directory\n",
    "    mdry = os.listdir(trainDir)\n",
    "    for file_name in mdry:\n",
    "        shutil.move(os.path.join(trainDir, file_name), srcDir)\n",
    "\n",
    "    #Move all files back into the source directory from the test directory    \n",
    "    rty = os.listdir(testDir)\n",
    "    for file_name in rty:\n",
    "        shutil.move(os.path.join(testDir, file_name), srcDir)\n",
    "\n",
    "    # Determine the number of files to move\n",
    "    y = os.listdir(srcDir)\n",
    "    files = [file for file in os.listdir(srcDir) if os.path.isfile(os.path.join(srcDir, file))]\n",
    "    random_amount_train = int(len(files)*splitFrac)\n",
    "\n",
    "    # Randomly select and files from the source directory and move them into the training directory\n",
    "    for x in range(random_amount_train):\n",
    "            file = random.choice(files)\n",
    "            shutil.move(os.path.join(srcDir, file), trainDir)\n",
    "            files = [file for file in os.listdir(srcDir) if os.path.isfile(os.path.join(srcDir, file))]\n",
    "    mdry = os.listdir(trainDir)\n",
    "    print(f\"Final number of images in {trainDir}: {len(mdry)}\")\n",
    "\n",
    "    # Move the remaining files into the test directory\n",
    "    testFiles = [file for file in os.listdir(srcDir) if os.path.isfile(os.path.join(srcDir, file))]\n",
    "    for x in testFiles:\n",
    "        shutil.move(os.path.join(srcDir, x), testDir)\n",
    "        testFiles = [file for file in os.listdir(srcDir) if os.path.isfile(os.path.join(srcDir, file))]\n",
    "    rty = os.listdir(testDir)\n",
    "    print(f\"Final number of images in {testDir}: {len(rty)}\")"
   ]
  },
  {
   "cell_type": "markdown",
   "metadata": {},
   "source": [
    "##### split\n",
    "\n",
    "The second function uses a preprocessing function from [Keras](https://www.tensorflow.org/api_docs/python/tf/keras/preprocessing/image_dataset_from_directory). The train and validation split is set to 80/20. The images are also resized to 256x256 pixels. This size is within the range of sizes that was discovered during the EDA process and is as large as possible without exceeding the processing power of the average retail 6-core processor.\n",
    "\n",
    "Inputs:\n",
    "* srcDir: The relative address of the source directory where all the images are agglomerated\n",
    "\n",
    "Returns:\n",
    "* maskTrain: A tensorflow dataset of the train set of images\n",
    "* maskVal: A tensorflow dataset of the validation set of images"
   ]
  },
  {
   "cell_type": "code",
   "execution_count": 6,
   "metadata": {},
   "outputs": [],
   "source": [
    "def split(srcDir):\n",
    "    # Imports the train data, resizes images to 256x256\n",
    "    maskTrain = tf.keras.preprocessing.image_dataset_from_directory(\n",
    "        srcDir,\n",
    "        validation_split=0.2,\n",
    "        subset=\"training\",\n",
    "        labels=\"inferred\",\n",
    "        label_mode=\"int\",\n",
    "        color_mode=\"rgb\",\n",
    "        batch_size=32,\n",
    "        image_size=(256, 256),\n",
    "        shuffle=True,\n",
    "        seed = 12,\n",
    "        interpolation=\"bilinear\"\n",
    "    )\n",
    "\n",
    "    # Imports the validation data, resizes images to 256x256\n",
    "    maskVal = tf.keras.preprocessing.image_dataset_from_directory(\n",
    "        srcDir,\n",
    "        validation_split=0.2,\n",
    "        subset=\"validation\",\n",
    "        labels=\"inferred\",\n",
    "        label_mode=\"int\",\n",
    "        color_mode=\"rgb\",\n",
    "        batch_size=32,\n",
    "        image_size=(256, 256),\n",
    "        shuffle=True,\n",
    "        seed = 12,\n",
    "        interpolation=\"bilinear\"\n",
    "    )\n",
    "    \n",
    "    return maskTrain, maskVal"
   ]
  },
  {
   "cell_type": "markdown",
   "metadata": {},
   "source": [
    "##### cnnModel\n",
    "The third function performs the compiling of our model and the fitting of our data into the model. The optimizer for the compiling is set beforehand so that it can be easily changed. The Adam optimizer with a learning rate of 0.0001 tested best on this dataset. It is also using sparse categorical crossentropy for the loss and accuracy as the metric.\n",
    "\n",
    "Inputs:\n",
    "* trainDir: The tensorflow dataset for the train dataset. From the split function.\n",
    "* valDir: The tensorflow dataset for the validation dataset. From the split function.\n",
    "* epochs: The number of epochs that the model will run for.\n",
    "* Verbosity: Level of verbosity while the model runs. Default is set to 1.\n",
    "\n",
    "Returns:\n",
    "* history: Contains various outputs of the model (loss and accuracy for both train and validation sets)"
   ]
  },
  {
   "cell_type": "code",
   "execution_count": 7,
   "metadata": {},
   "outputs": [],
   "source": [
    "#sets the optimizer and learning rate for compiling the model\n",
    "opt = tf.keras.optimizers.Adam(\n",
    "    learning_rate=0.0001,\n",
    ")"
   ]
  },
  {
   "cell_type": "code",
   "execution_count": 8,
   "metadata": {},
   "outputs": [],
   "source": [
    "def cnnModel(trainDir, valDir, epochs, verbosity = 1):    \n",
    "    # Compiles the model\n",
    "    maskModelCNN.compile(\n",
    "                         loss = 'sparse_categorical_crossentropy',\n",
    "                         optimizer = opt,\n",
    "                         metrics = ['accuracy']\n",
    "                         )\n",
    "    # fits the training and validation sets to the model\n",
    "    history = maskModelCNN.fit(\n",
    "                              trainDir,\n",
    "                              epochs = epochs,\n",
    "                              verbose = verbosity,\n",
    "                              validation_data = valDir\n",
    "                              )\n",
    "    \n",
    "    return history"
   ]
  },
  {
   "cell_type": "markdown",
   "metadata": {},
   "source": [
    "##### predictData\n",
    "The fourth function imports and processes the test dataset and predicts its class with the trained model. It then creates a confusion matrix that shows how many images were classified correctly or not. The [flow from directory](https://keras.io/api/preprocessing/image/) function within keras is used to import this data which works very similar to the function sued to import that train and validation splits but differs in it's output format, tuples and not a tensorflow dataset. This is done once for each class and then combines both confusion matrices into one output matrix.\n",
    "\n",
    "Inputs:\n",
    "* yesDir: The relative address of the yes class images in the test directory\n",
    "* noDir: The relative address of the no class images in the test directory\n",
    "\n",
    "Returns:\n",
    "* test_trueYes: The true classes of the input images\n",
    "* test_predYes: The predicted classes of the input images\n",
    "* test_trueNo: The true classes of the input images\n",
    "* test_predNo: The predicted classes of the input images"
   ]
  },
  {
   "cell_type": "code",
   "execution_count": 9,
   "metadata": {},
   "outputs": [],
   "source": [
    "def predictData(yesDir, noDir):    \n",
    "    \n",
    "    # Instantiates the image generator\n",
    "    testGen = ImageDataGenerator()\n",
    "\n",
    "    # Imports the yes class test images from the test directory\n",
    "    testMaskGenYes = testGen.flow_from_directory(\n",
    "                                                 yesDir,\n",
    "                                                 target_size=(256,256),\n",
    "                                                 color_mode='rgb',\n",
    "                                                 batch_size=1000,\n",
    "                                                 class_mode= 'binary',\n",
    "                                                 shuffle=True,\n",
    "                                                 seed = 12,\n",
    "                                                 interpolation= 'bilinear'\n",
    "                                                 )\n",
    "    \n",
    "    # Runs the test images through the model\n",
    "    predictionYes = maskModelCNN.predict(testMaskGenYes, steps = 1, verbose = 0)\n",
    "    # Grabs the true image classes\n",
    "    test_trueYes = testMaskGenYes.classes\n",
    "    # Grabs the predicted image classes\n",
    "    test_predYes = predictionYes.argmax(axis=1)\n",
    "\n",
    "    # Creates a confusion matrix for the yes data\n",
    "    iterMatrixYes = pd.DataFrame(confusion_matrix(test_trueYes, test_predYes),\n",
    "                                 index = ['true yes',''],\n",
    "                                 columns =  ['predicted no','predicted yes'])\n",
    "    # Grabs the first row of the yes matrix\n",
    "    iterMatrixYes = iterMatrixYes[0:1]\n",
    "    \n",
    "    # Imports the no class test images from the test directory\n",
    "    testMaskGenNo = testGen.flow_from_directory(\n",
    "                                                noDir,\n",
    "                                                target_size=(256,256),\n",
    "                                                color_mode='rgb',\n",
    "                                                batch_size=1000,\n",
    "                                                class_mode= 'binary',\n",
    "                                                shuffle=True,\n",
    "                                                seed = 12,\n",
    "                                                interpolation= 'bilinear'\n",
    "                                                )\n",
    "    \n",
    "    # Runs the test images through the model\n",
    "    predictionNo = maskModelCNN.predict(testMaskGenNo, steps = 1, verbose = 0)\n",
    "    # Grabs the true image classes\n",
    "    test_trueNo = testMaskGenNo.classes\n",
    "    # Grabs the predicted image classes\n",
    "    test_predNo = predictionNo.argmax(axis=1)\n",
    "\n",
    "    # Creates a confusion matrix for the yes data\n",
    "    iterMatrixNo = pd.DataFrame(confusion_matrix(test_trueNo,test_predNo),\n",
    "                                index = ['true no',''],\n",
    "                                columns =  ['predicted no','predicted yes'])\n",
    "    # Grabs the first row of the yes matrix\n",
    "    iterMatrixNo = iterMatrixNo[0:1]\n",
    "\n",
    "    # Concatenates the first rows of the yes and no matrices\n",
    "    itermatrix = pd.concat([iterMatrixYes,iterMatrixNo])\n",
    "    display(itermatrix)\n",
    "    \n",
    "    return test_trueYes, test_trueNo, test_predYes, test_predNo"
   ]
  },
  {
   "cell_type": "markdown",
   "metadata": {},
   "source": [
    "##### imagePredictTest\n",
    "This final function was built to demonstrate the model and visually inspect its performance. It loads a random image from the test directory for each class, passes it into the model, and displays the image name, prediction score, and the actual image.\n",
    "\n",
    "Inputs:\n",
    "* yesDir: The relative address of the yes class images in the test directory\n",
    "* noDir: The relative address of the no class images in the test directory\n",
    "\n",
    "Returns:\n",
    "* None"
   ]
  },
  {
   "cell_type": "code",
   "execution_count": 10,
   "metadata": {},
   "outputs": [],
   "source": [
    "def imagePredictTest(yesDir, noDir):    \n",
    "    \n",
    "    # Creates a list of items in the test directory if it exists\n",
    "    filesYes = [file for file in os.listdir(yesDir) \n",
    "             if os.path.isfile(os.path.join(yesDir, file))]\n",
    "    # Grabs a random file from the list of images\n",
    "    imgYes = random.choice(filesYes)\n",
    "\n",
    "    # Loads the images\n",
    "    img = keras.preprocessing.image.load_img((yesDir+imgYes), target_size=(256,256))\n",
    "    # Converts the image into an array\n",
    "    img_array = keras.preprocessing.image.img_to_array(img)\n",
    "    img_array = tf.expand_dims(img_array, 0)  \n",
    "\n",
    "    # Runs the image through the model\n",
    "    predictions = maskModelCNN.predict(img_array, verbose = 1)\n",
    "    # Grabs the prediction score\n",
    "    score = predictions[0]\n",
    "    # Displays the images\n",
    "    imgplot = plt.imshow(img)\n",
    "    plt.axis('off')\n",
    "    plt.show()\n",
    "    \n",
    "    # Prints the image name\n",
    "    print(imgYes)\n",
    "    print(f\"There is a {round(score[1]*100,2)}% chance\")\n",
    "    print(\"this person is wearing a mask.\")\n",
    "    print()\n",
    "\n",
    "    # Creates a list of items in the test directory if it exists\n",
    "    filesNo = [file for file in os.listdir(noDir) \n",
    "             if os.path.isfile(os.path.join(noDir, file))]\n",
    "    # Grabs a random file from the list of images\n",
    "    imgNo = random.choice(filesNo)\n",
    "\n",
    "    # Loads the images\n",
    "    img = keras.preprocessing.image.load_img((noDir+imgNo), target_size=(256,256))\n",
    "    # Converts the image into an array\n",
    "    img_array = keras.preprocessing.image.img_to_array(img)\n",
    "    img_array = tf.expand_dims(img_array, 0)\n",
    "\n",
    "    # Runs the image through the model\n",
    "    predictions = maskModelCNN.predict(img_array, verbose = 1)\n",
    "    # Grabs the prediction score\n",
    "    score = predictions[0]\n",
    "    # Displays the images\n",
    "    imgplot = plt.imshow(img)\n",
    "    plt.axis('off')\n",
    "    plt.show()\n",
    "\n",
    "    # Prints the image name\n",
    "    print(imgNo)\n",
    "    print(f\"There is a {round(score[0]*100,2)}% chance\")\n",
    "    print(\"this person is NOT wearing a mask.\")"
   ]
  },
  {
   "cell_type": "markdown",
   "metadata": {},
   "source": [
    "### Model Architecture"
   ]
  },
  {
   "cell_type": "markdown",
   "metadata": {},
   "source": [
    "This project will use a sequential convoluted neural network to process through each image and then trains itself on those images. The first 12 layers of the model perform alternation convolutions and pooling on the images to highlight features within the images. The pooling also alternates between max and average pooling. All the convolutions use a 3x3 kernal and all the poolings use a 2x2 kernal. There are also regular dropouts set throughout these layers that randomly remove 12.5% of the layer nodes. The images are then flattened before being run through 4 dense layers that use the features found in the previous layers to learn which features are present in images with masks and those present in images without. The layers use a relu activation and the output layers uses softmax."
   ]
  },
  {
   "cell_type": "code",
   "execution_count": 11,
   "metadata": {},
   "outputs": [
    {
     "name": "stdout",
     "output_type": "stream",
     "text": [
      "Model: \"sequential\"\n",
      "_________________________________________________________________\n",
      "Layer (type)                 Output Shape              Param #   \n",
      "=================================================================\n",
      "conv2d (Conv2D)              (None, 254, 254, 96)      2688      \n",
      "_________________________________________________________________\n",
      "max_pooling2d (MaxPooling2D) (None, 127, 127, 96)      0         \n",
      "_________________________________________________________________\n",
      "dropout (Dropout)            (None, 127, 127, 96)      0         \n",
      "_________________________________________________________________\n",
      "conv2d_1 (Conv2D)            (None, 125, 125, 32)      27680     \n",
      "_________________________________________________________________\n",
      "average_pooling2d (AveragePo (None, 62, 62, 32)        0         \n",
      "_________________________________________________________________\n",
      "dropout_1 (Dropout)          (None, 62, 62, 32)        0         \n",
      "_________________________________________________________________\n",
      "conv2d_2 (Conv2D)            (None, 60, 60, 64)        18496     \n",
      "_________________________________________________________________\n",
      "max_pooling2d_1 (MaxPooling2 (None, 30, 30, 64)        0         \n",
      "_________________________________________________________________\n",
      "dropout_2 (Dropout)          (None, 30, 30, 64)        0         \n",
      "_________________________________________________________________\n",
      "conv2d_3 (Conv2D)            (None, 28, 28, 32)        18464     \n",
      "_________________________________________________________________\n",
      "average_pooling2d_1 (Average (None, 14, 14, 32)        0         \n",
      "_________________________________________________________________\n",
      "dropout_3 (Dropout)          (None, 14, 14, 32)        0         \n",
      "_________________________________________________________________\n",
      "conv2d_4 (Conv2D)            (None, 12, 12, 64)        18496     \n",
      "_________________________________________________________________\n",
      "max_pooling2d_2 (MaxPooling2 (None, 6, 6, 64)          0         \n",
      "_________________________________________________________________\n",
      "conv2d_5 (Conv2D)            (None, 4, 4, 32)          18464     \n",
      "_________________________________________________________________\n",
      "average_pooling2d_2 (Average (None, 2, 2, 32)          0         \n",
      "_________________________________________________________________\n",
      "flatten (Flatten)            (None, 128)               0         \n",
      "_________________________________________________________________\n",
      "dense (Dense)                (None, 128)               16512     \n",
      "_________________________________________________________________\n",
      "dense_1 (Dense)              (None, 64)                8256      \n",
      "_________________________________________________________________\n",
      "dense_2 (Dense)              (None, 32)                2080      \n",
      "_________________________________________________________________\n",
      "dense_3 (Dense)              (None, 16)                528       \n",
      "_________________________________________________________________\n",
      "dense_4 (Dense)              (None, 2)                 34        \n",
      "=================================================================\n",
      "Total params: 131,698\n",
      "Trainable params: 131,698\n",
      "Non-trainable params: 0\n",
      "_________________________________________________________________\n"
     ]
    }
   ],
   "source": [
    "# Instantiates the model\n",
    "maskModelCNN = Sequential()\n",
    "\n",
    "# Convolutional and pooling layers with dropouts\n",
    "maskModelCNN.add(layers.Conv2D(96, (3, 3), activation = 'relu', input_shape=(256, 256, 3)))\n",
    "maskModelCNN.add(layers.MaxPooling2D(pool_size=(2, 2)))\n",
    "maskModelCNN.add(layers.Dropout(0.125))\n",
    "maskModelCNN.add(layers.Conv2D(32, (3, 3), activation='relu'))\n",
    "maskModelCNN.add(layers.AveragePooling2D(pool_size=(2,2)))\n",
    "maskModelCNN.add(layers.Dropout(0.125))\n",
    "\n",
    "maskModelCNN.add(layers.Conv2D(64, (3, 3), activation='relu'))\n",
    "maskModelCNN.add(layers.MaxPooling2D(pool_size=(2, 2)))\n",
    "maskModelCNN.add(layers.Dropout(0.125))\n",
    "maskModelCNN.add(layers.Conv2D(32, (3, 3), activation='relu'))\n",
    "maskModelCNN.add(layers.AveragePooling2D(pool_size=(2,2)))\n",
    "maskModelCNN.add(layers.Dropout(0.125))\n",
    "\n",
    "maskModelCNN.add(layers.Conv2D(64, (3, 3), activation='relu'))\n",
    "maskModelCNN.add(layers.MaxPooling2D(pool_size=(2, 2)))\n",
    "maskModelCNN.add(layers.Conv2D(32, (3, 3), activation='relu'))\n",
    "maskModelCNN.add(layers.AveragePooling2D(pool_size=(2,2)))\n",
    "\n",
    "# Flatten the images\n",
    "maskModelCNN.add(layers.Flatten())\n",
    "# Dense layers\n",
    "maskModelCNN.add(layers.Dense(128, activation='relu'))\n",
    "maskModelCNN.add(layers.Dense(64, activation='relu'))\n",
    "maskModelCNN.add(layers.Dense(32, activation='relu'))\n",
    "maskModelCNN.add(layers.Dense(16, activation='relu'))\n",
    "maskModelCNN.add(layers.Dense(2, activation='softmax'))\n",
    "\n",
    "# Print out a summary of the network\n",
    "maskModelCNN.summary()"
   ]
  },
  {
   "cell_type": "markdown",
   "metadata": {},
   "source": [
    "<img src=\"cnnArchitectureDM.jpg\">"
   ]
  },
  {
   "cell_type": "markdown",
   "metadata": {},
   "source": [
    "### Implementation"
   ]
  },
  {
   "cell_type": "markdown",
   "metadata": {},
   "source": [
    "The next 3 cells use the functions defined earlier in the notebook to distribute and load the data before compiling and running the model. There are also two sets of graphs that help determine whether or not the model is performing properly."
   ]
  },
  {
   "cell_type": "code",
   "execution_count": 12,
   "metadata": {},
   "outputs": [
    {
     "name": "stdout",
     "output_type": "stream",
     "text": [
      "Final number of images in mask_detection_random/yes: 4080\n",
      "Final number of images in test_rand/yes/images: 215\n",
      "\n",
      "Final number of images in mask_detection_random/no: 4241\n",
      "Final number of images in test_rand/no/images: 224\n"
     ]
    }
   ],
   "source": [
    "# Randomizes the images in the schema\n",
    "srcDirYes = 'yes/'\n",
    "srcDirNo = 'no/'\n",
    "trainDirYes = 'mask_detection_random/yes'\n",
    "testDirYesMove = 'test_rand/yes/images'\n",
    "trainDirNo = 'mask_detection_random/no'\n",
    "testDirNoMove = 'test_rand/no/images'\n",
    "splitFrac = 0.95\n",
    "\n",
    "randomMove(srcDirYes, trainDirYes, testDirYesMove, splitFrac)\n",
    "print()\n",
    "randomMove(srcDirNo, trainDirNo, testDirNoMove, splitFrac)"
   ]
  },
  {
   "cell_type": "code",
   "execution_count": 13,
   "metadata": {},
   "outputs": [
    {
     "name": "stdout",
     "output_type": "stream",
     "text": [
      "Found 8321 files belonging to 2 classes.\n",
      "Using 6657 files for training.\n",
      "Found 8321 files belonging to 2 classes.\n",
      "Using 1664 files for validation.\n"
     ]
    }
   ],
   "source": [
    "# Spliting train and validation images\n",
    "srcDir = 'mask_detection_random'\n",
    "maskTrain, maskVal = split(srcDir)"
   ]
  },
  {
   "cell_type": "code",
   "execution_count": 14,
   "metadata": {},
   "outputs": [
    {
     "name": "stdout",
     "output_type": "stream",
     "text": [
      "Epoch 1/15\n",
      "209/209 [==============================] - 564s 3s/step - loss: 0.6581 - accuracy: 0.6646 - val_loss: 0.4051 - val_accuracy: 0.8233\n",
      "Epoch 2/15\n",
      "209/209 [==============================] - 562s 3s/step - loss: 0.3765 - accuracy: 0.8363 - val_loss: 0.4323 - val_accuracy: 0.7993\n",
      "Epoch 3/15\n",
      "209/209 [==============================] - 564s 3s/step - loss: 0.3495 - accuracy: 0.8504 - val_loss: 0.3156 - val_accuracy: 0.8642\n",
      "Epoch 4/15\n",
      "209/209 [==============================] - 578s 3s/step - loss: 0.3215 - accuracy: 0.8648 - val_loss: 0.3005 - val_accuracy: 0.8786\n",
      "Epoch 5/15\n",
      "209/209 [==============================] - 573s 3s/step - loss: 0.2959 - accuracy: 0.8848 - val_loss: 0.2786 - val_accuracy: 0.8840\n",
      "Epoch 6/15\n",
      "209/209 [==============================] - 577s 3s/step - loss: 0.2826 - accuracy: 0.8849 - val_loss: 0.2803 - val_accuracy: 0.9002\n",
      "Epoch 7/15\n",
      "209/209 [==============================] - 571s 3s/step - loss: 0.2762 - accuracy: 0.8922 - val_loss: 0.2665 - val_accuracy: 0.9044\n",
      "Epoch 8/15\n",
      "209/209 [==============================] - 593s 3s/step - loss: 0.2430 - accuracy: 0.9047 - val_loss: 0.2319 - val_accuracy: 0.9141\n",
      "Epoch 9/15\n",
      "209/209 [==============================] - 553s 3s/step - loss: 0.2273 - accuracy: 0.9125 - val_loss: 0.2073 - val_accuracy: 0.9231\n",
      "Epoch 10/15\n",
      "209/209 [==============================] - 552s 3s/step - loss: 0.2188 - accuracy: 0.9140 - val_loss: 0.2126 - val_accuracy: 0.9177\n",
      "Epoch 11/15\n",
      "209/209 [==============================] - 523s 2s/step - loss: 0.2085 - accuracy: 0.9205 - val_loss: 0.1871 - val_accuracy: 0.9345\n",
      "Epoch 12/15\n",
      "209/209 [==============================] - 499s 2s/step - loss: 0.2187 - accuracy: 0.9183 - val_loss: 0.2166 - val_accuracy: 0.9141\n",
      "Epoch 13/15\n",
      "209/209 [==============================] - 498s 2s/step - loss: 0.1929 - accuracy: 0.9254 - val_loss: 0.2123 - val_accuracy: 0.9237\n",
      "Epoch 14/15\n",
      "209/209 [==============================] - 499s 2s/step - loss: 0.2076 - accuracy: 0.9149 - val_loss: 0.2100 - val_accuracy: 0.9261\n",
      "Epoch 15/15\n",
      "209/209 [==============================] - 499s 2s/step - loss: 0.1764 - accuracy: 0.9359 - val_loss: 0.1742 - val_accuracy: 0.9303\n"
     ]
    }
   ],
   "source": [
    "# Compiling and fitting the images into the data\n",
    "epochs = 15\n",
    "history = cnnModel(maskTrain, maskVal, epochs)"
   ]
  },
  {
   "cell_type": "markdown",
   "metadata": {},
   "source": [
    "The graph below shows the training progression of the model's accuracy and loss for each epochs that it ran. The accuracy is increasing and the loss is decreasing which signifies that the model is learning and improving from one epoch to the next."
   ]
  },
  {
   "cell_type": "code",
   "execution_count": 15,
   "metadata": {},
   "outputs": [
    {
     "data": {
      "image/png": "[encoded data removed]",
      "text/plain": [
       "<Figure size 864x360 with 1 Axes>"
      ]
     },
     "metadata": {
      "needs_background": "light"
     },
     "output_type": "display_data"
    }
   ],
   "source": [
    "plt.figure(figsize=(12,5))\n",
    "plt.plot(history.history['loss'], marker='*', label='loss')\n",
    "plt.plot(history.history['accuracy'], marker='*', label='accuracy')\n",
    "plt.title('Training Accuracy and Loss')\n",
    "plt.legend(loc='best')\n",
    "plt.xlabel('Epoch')\n",
    "plt.xticks(np.arange(0, int(epochs)))\n",
    "plt.ylabel('Accuracy / Loss')\n",
    "plt.yticks(np.arange(0,1, step=0.1))\n",
    "plt.show()"
   ]
  },
  {
   "cell_type": "markdown",
   "metadata": {},
   "source": [
    "The next two graphs compare the accuracy and loss of the train and validation sets. The accuracy is increasing and the loss is decreasing as expected. The true value of these graphs is that they allow us to see whether or not the model is over fitting. This is shown when the validation and train metrics heavily diverge, typically near the end third of the process. The closeness of the lines indicate that the model is not overfitting and performing well. That being said, there is an anomaly with this output. The validation accuracy is typically lower than that of the training data and the loss is typically higher. Through [online research](https://www.researchgate.net/post/When_can_Validation_Accuracy_be_greater_than_Training_Accuracy_for_Deep_Learning_Models) it looks like the high number of dropouts maybe causing this but it could also be due to a slight class imbalance since there are roughly 200 more images in the \"no\" class. Further testing is required to pinpoint the cause but it is unlikely that it is invalidating the performance of the model."
   ]
  },
  {
   "cell_type": "code",
   "execution_count": 16,
   "metadata": {},
   "outputs": [
    {
     "data": {
      "image/png": "[encoded data removed]",
      "text/plain": [
       "<Figure size 576x576 with 2 Axes>"
      ]
     },
     "metadata": {
      "needs_background": "light"
     },
     "output_type": "display_data"
    }
   ],
   "source": [
    "trainAccuracyCNNModel = history.history['accuracy']\n",
    "valAccuracyCNNModel = history.history['val_accuracy']\n",
    "\n",
    "trainLossCNNModel = history.history['loss']\n",
    "valLossCNNModel = history.history['val_loss']\n",
    "\n",
    "epochs_range = range(0,int(epochs))\n",
    "\n",
    "plt.figure(figsize=(8, 8))\n",
    "plt.subplot(1, 2, 1)\n",
    "plt.plot(epochs_range, trainAccuracyCNNModel, label='Training Accuracy')\n",
    "plt.plot(epochs_range, valAccuracyCNNModel, label='Validation Accuracy')\n",
    "plt.legend()\n",
    "plt.title('Training and Validation Accuracy')\n",
    "\n",
    "plt.subplot(1, 2, 2)\n",
    "plt.plot(epochs_range, trainLossCNNModel, label='Training Loss')\n",
    "plt.plot(epochs_range, valLossCNNModel, label='Validation Loss')\n",
    "plt.legend()\n",
    "plt.title('Training and Validation Loss')\n",
    "plt.show()\n"
   ]
  },
  {
   "cell_type": "markdown",
   "metadata": {},
   "source": [
    "This matrix displays the performance of of this iteration of the model. Of the 439 test images 411 were classified correctly (93.6%). It was slightly better at predicting the images with masks (96.7%) than it was at predicting the images without masks (90.6%). There is a 4.8% false positive rate which would be the most problematic error in real life."
   ]
  },
  {
   "cell_type": "code",
   "execution_count": 20,
   "metadata": {},
   "outputs": [
    {
     "name": "stdout",
     "output_type": "stream",
     "text": [
      "Found 215 images belonging to 1 classes.\n",
      "Found 224 images belonging to 1 classes.\n"
     ]
    },
    {
     "data": {
      "text/html": [
       "<div>\n",
       "<style scoped>\n",
       "    .dataframe tbody tr th:only-of-type {\n",
       "        vertical-align: middle;\n",
       "    }\n",
       "\n",
       "    .dataframe tbody tr th {\n",
       "        vertical-align: top;\n",
       "    }\n",
       "\n",
       "    .dataframe thead th {\n",
       "        text-align: right;\n",
       "    }\n",
       "</style>\n",
       "<table border=\"1\" class=\"dataframe\">\n",
       "  <thead>\n",
       "    <tr style=\"text-align: right;\">\n",
       "      <th></th>\n",
       "      <th>predicted no</th>\n",
       "      <th>predicted yes</th>\n",
       "    </tr>\n",
       "  </thead>\n",
       "  <tbody>\n",
       "    <tr>\n",
       "      <th>true yes</th>\n",
       "      <td>1</td>\n",
       "      <td>214</td>\n",
       "    </tr>\n",
       "    <tr>\n",
       "      <th>true no</th>\n",
       "      <td>222</td>\n",
       "      <td>2</td>\n",
       "    </tr>\n",
       "  </tbody>\n",
       "</table>\n",
       "</div>"
      ],
      "text/plain": [
       "          predicted no  predicted yes\n",
       "true yes             1            214\n",
       "true no            222              2"
      ]
     },
     "metadata": {},
     "output_type": "display_data"
    }
   ],
   "source": [
    "# Runs test images through the model and outputs matrix\n",
    "yesDir = 'test_rand/yes'\n",
    "noDir = 'test_rand/no'\n",
    "# the a, b, c, d variables are just here to stop an annoying useless print statement\n",
    "a, b, c, d = predictData(yesDir, noDir)"
   ]
  },
  {
   "cell_type": "markdown",
   "metadata": {},
   "source": [
    "### Demonstation and Process Speed Testing"
   ]
  },
  {
   "cell_type": "markdown",
   "metadata": {},
   "source": [
    "If this model were to be applied to raw video it would have to run fast enough to handle the large amount of frames (images) output by that video. High quality films and television are typically filmed at 60 frames per second (fps) but other forms of video like CCTV or other security cameras would run at a much lower frame rate. For facial recognition purposes it is necessary to film at [30 fps](https://ipvm.com/reports/frame-rate-surveillance-guide). The tests below show that it roughly takes 29ms to predict the image or frame. This speed would support video up to 34 fps and therefore can implemented on raw video for prediction purposes. "
   ]
  },
  {
   "cell_type": "code",
   "execution_count": 21,
   "metadata": {},
   "outputs": [
    {
     "name": "stdout",
     "output_type": "stream",
     "text": [
      "WARNING:tensorflow:5 out of the last 11 calls to <function Model.make_predict_function.<locals>.predict_function at 0x0000021281152790> triggered tf.function retracing. Tracing is expensive and the excessive number of tracings could be due to (1) creating @tf.function repeatedly in a loop, (2) passing tensors with different shapes, (3) passing Python objects instead of tensors. For (1), please define your @tf.function outside of the loop. For (2), @tf.function has experimental_relax_shapes=True option that relaxes argument shapes that can avoid unnecessary retracing. For (3), please refer to https://www.tensorflow.org/guide/function#controlling_retracing and https://www.tensorflow.org/api_docs/python/tf/function for  more details.\n",
      "1/1 [==============================] - 0s 117ms/step\n"
     ]
    },
    {
     "data": {
      "image/png": "[encoded data removed]",
      "text/plain": [
       "<Figure size 432x288 with 1 Axes>"
      ]
     },
     "metadata": {
      "needs_background": "light"
     },
     "output_type": "display_data"
    },
    {
     "name": "stdout",
     "output_type": "stream",
     "text": [
      "with_mask_892.jpg\n",
      "There is a 99.87% chance\n",
      "this person is wearing a mask.\n",
      "\n",
      "1/1 [==============================] - 0s 28ms/step\n"
     ]
    },
    {
     "data": {
      "image/png": "[encoded data removed]",
      "text/plain": [
       "<Figure size 432x288 with 1 Axes>"
      ]
     },
     "metadata": {
      "needs_background": "light"
     },
     "output_type": "display_data"
    },
    {
     "name": "stdout",
     "output_type": "stream",
     "text": [
      "without_mask_879.jpg\n",
      "There is a 100.0% chance\n",
      "this person is NOT wearing a mask.\n"
     ]
    }
   ],
   "source": [
    "# Randomly tests 2 images, 1 from each class\n",
    "yesDir = 'test_rand/yes/images/'\n",
    "noDir = 'test_rand/no/images/'\n",
    "imagePredictTest(yesDir, noDir)"
   ]
  },
  {
   "cell_type": "markdown",
   "metadata": {},
   "source": [
    "### Iteration"
   ]
  },
  {
   "cell_type": "markdown",
   "metadata": {},
   "source": [
    "This for loop has been written to truly test the predictive accuracy of this model through iteration. Using the functions that were outlined earlier in the notebook this loop run the entire implementation process a number of times with different train, validation, and test sets ensuring that the model isn't receiving a relatively easy batch to learn from or test with. It then agglomerates those results into a final matrix for evaluation."
   ]
  },
  {
   "cell_type": "code",
   "execution_count": 19,
   "metadata": {},
   "outputs": [
    {
     "name": "stdout",
     "output_type": "stream",
     "text": [
      "###########################################################\n",
      "\n",
      "Start of Iteration 1/5\n",
      "14:42:47\n",
      "\n",
      "Final number of images in mask_detection_random/yes: 4080\n",
      "Final number of images in test_rand/yes/images: 215\n",
      "Final number of images in mask_detection_random/no: 4241\n",
      "Final number of images in test_rand/no/images: 224\n",
      "\n",
      "Found 8321 files belonging to 2 classes.\n",
      "Using 6657 files for training.\n",
      "Found 8321 files belonging to 2 classes.\n",
      "Using 1664 files for validation.\n",
      "\n",
      "Started model iteration 1/5\n",
      "Completed model iteration 1/5\n",
      "\n",
      "Found 215 images belonging to 1 classes.\n",
      "Found 224 images belonging to 1 classes.\n"
     ]
    },
    {
     "data": {
      "text/html": [
       "<div>\n",
       "<style scoped>\n",
       "    .dataframe tbody tr th:only-of-type {\n",
       "        vertical-align: middle;\n",
       "    }\n",
       "\n",
       "    .dataframe tbody tr th {\n",
       "        vertical-align: top;\n",
       "    }\n",
       "\n",
       "    .dataframe thead th {\n",
       "        text-align: right;\n",
       "    }\n",
       "</style>\n",
       "<table border=\"1\" class=\"dataframe\">\n",
       "  <thead>\n",
       "    <tr style=\"text-align: right;\">\n",
       "      <th></th>\n",
       "      <th>predicted no</th>\n",
       "      <th>predicted yes</th>\n",
       "    </tr>\n",
       "  </thead>\n",
       "  <tbody>\n",
       "    <tr>\n",
       "      <th>true yes</th>\n",
       "      <td>6</td>\n",
       "      <td>209</td>\n",
       "    </tr>\n",
       "    <tr>\n",
       "      <th>true no</th>\n",
       "      <td>207</td>\n",
       "      <td>17</td>\n",
       "    </tr>\n",
       "  </tbody>\n",
       "</table>\n",
       "</div>"
      ],
      "text/plain": [
       "          predicted no  predicted yes\n",
       "true yes             6            209\n",
       "true no            207             17"
      ]
     },
     "metadata": {},
     "output_type": "display_data"
    },
    {
     "name": "stdout",
     "output_type": "stream",
     "text": [
      "\n",
      "End of Iteration 1/5\n",
      "\n",
      "###########################################################\n",
      "\n",
      "Start of Iteration 2/5\n",
      "17:00:17\n",
      "\n",
      "Final number of images in mask_detection_random/yes: 4080\n",
      "Final number of images in test_rand/yes/images: 215\n",
      "Final number of images in mask_detection_random/no: 4241\n",
      "Final number of images in test_rand/no/images: 224\n",
      "\n",
      "Found 8321 files belonging to 2 classes.\n",
      "Using 6657 files for training.\n",
      "Found 8321 files belonging to 2 classes.\n",
      "Using 1664 files for validation.\n",
      "\n",
      "Started model iteration 2/5\n",
      "Completed model iteration 2/5\n",
      "\n",
      "Found 215 images belonging to 1 classes.\n",
      "Found 224 images belonging to 1 classes.\n"
     ]
    },
    {
     "data": {
      "text/html": [
       "<div>\n",
       "<style scoped>\n",
       "    .dataframe tbody tr th:only-of-type {\n",
       "        vertical-align: middle;\n",
       "    }\n",
       "\n",
       "    .dataframe tbody tr th {\n",
       "        vertical-align: top;\n",
       "    }\n",
       "\n",
       "    .dataframe thead th {\n",
       "        text-align: right;\n",
       "    }\n",
       "</style>\n",
       "<table border=\"1\" class=\"dataframe\">\n",
       "  <thead>\n",
       "    <tr style=\"text-align: right;\">\n",
       "      <th></th>\n",
       "      <th>predicted no</th>\n",
       "      <th>predicted yes</th>\n",
       "    </tr>\n",
       "  </thead>\n",
       "  <tbody>\n",
       "    <tr>\n",
       "      <th>true yes</th>\n",
       "      <td>11</td>\n",
       "      <td>204</td>\n",
       "    </tr>\n",
       "    <tr>\n",
       "      <th>true no</th>\n",
       "      <td>216</td>\n",
       "      <td>8</td>\n",
       "    </tr>\n",
       "  </tbody>\n",
       "</table>\n",
       "</div>"
      ],
      "text/plain": [
       "          predicted no  predicted yes\n",
       "true yes            11            204\n",
       "true no            216              8"
      ]
     },
     "metadata": {},
     "output_type": "display_data"
    },
    {
     "name": "stdout",
     "output_type": "stream",
     "text": [
      "\n",
      "End of Iteration 2/5\n",
      "\n",
      "###########################################################\n",
      "\n",
      "Start of Iteration 3/5\n",
      "19:27:49\n",
      "\n",
      "Final number of images in mask_detection_random/yes: 4080\n",
      "Final number of images in test_rand/yes/images: 215\n",
      "Final number of images in mask_detection_random/no: 4241\n",
      "Final number of images in test_rand/no/images: 224\n",
      "\n",
      "Found 8321 files belonging to 2 classes.\n",
      "Using 6657 files for training.\n",
      "Found 8321 files belonging to 2 classes.\n",
      "Using 1664 files for validation.\n",
      "\n",
      "Started model iteration 3/5\n",
      "Completed model iteration 3/5\n",
      "\n",
      "Found 215 images belonging to 1 classes.\n",
      "WARNING:tensorflow:5 out of the last 9 calls to <function Model.make_predict_function.<locals>.predict_function at 0x00000211A86008B0> triggered tf.function retracing. Tracing is expensive and the excessive number of tracings could be due to (1) creating @tf.function repeatedly in a loop, (2) passing tensors with different shapes, (3) passing Python objects instead of tensors. For (1), please define your @tf.function outside of the loop. For (2), @tf.function has experimental_relax_shapes=True option that relaxes argument shapes that can avoid unnecessary retracing. For (3), please refer to https://www.tensorflow.org/guide/function#controlling_retracing and https://www.tensorflow.org/api_docs/python/tf/function for  more details.\n",
      "Found 224 images belonging to 1 classes.\n"
     ]
    },
    {
     "data": {
      "text/html": [
       "<div>\n",
       "<style scoped>\n",
       "    .dataframe tbody tr th:only-of-type {\n",
       "        vertical-align: middle;\n",
       "    }\n",
       "\n",
       "    .dataframe tbody tr th {\n",
       "        vertical-align: top;\n",
       "    }\n",
       "\n",
       "    .dataframe thead th {\n",
       "        text-align: right;\n",
       "    }\n",
       "</style>\n",
       "<table border=\"1\" class=\"dataframe\">\n",
       "  <thead>\n",
       "    <tr style=\"text-align: right;\">\n",
       "      <th></th>\n",
       "      <th>predicted no</th>\n",
       "      <th>predicted yes</th>\n",
       "    </tr>\n",
       "  </thead>\n",
       "  <tbody>\n",
       "    <tr>\n",
       "      <th>true yes</th>\n",
       "      <td>4</td>\n",
       "      <td>211</td>\n",
       "    </tr>\n",
       "    <tr>\n",
       "      <th>true no</th>\n",
       "      <td>223</td>\n",
       "      <td>1</td>\n",
       "    </tr>\n",
       "  </tbody>\n",
       "</table>\n",
       "</div>"
      ],
      "text/plain": [
       "          predicted no  predicted yes\n",
       "true yes             4            211\n",
       "true no            223              1"
      ]
     },
     "metadata": {},
     "output_type": "display_data"
    },
    {
     "name": "stdout",
     "output_type": "stream",
     "text": [
      "\n",
      "End of Iteration 3/5\n",
      "\n",
      "###########################################################\n",
      "\n",
      "Start of Iteration 4/5\n",
      "22:01:58\n",
      "\n",
      "Final number of images in mask_detection_random/yes: 4080\n",
      "Final number of images in test_rand/yes/images: 215\n",
      "Final number of images in mask_detection_random/no: 4241\n",
      "Final number of images in test_rand/no/images: 224\n",
      "\n",
      "Found 8321 files belonging to 2 classes.\n",
      "Using 6657 files for training.\n",
      "Found 8321 files belonging to 2 classes.\n",
      "Using 1664 files for validation.\n",
      "\n",
      "Started model iteration 4/5\n",
      "Completed model iteration 4/5\n",
      "\n",
      "Found 215 images belonging to 1 classes.\n",
      "WARNING:tensorflow:6 out of the last 11 calls to <function Model.make_predict_function.<locals>.predict_function at 0x00000211C11C2550> triggered tf.function retracing. Tracing is expensive and the excessive number of tracings could be due to (1) creating @tf.function repeatedly in a loop, (2) passing tensors with different shapes, (3) passing Python objects instead of tensors. For (1), please define your @tf.function outside of the loop. For (2), @tf.function has experimental_relax_shapes=True option that relaxes argument shapes that can avoid unnecessary retracing. For (3), please refer to https://www.tensorflow.org/guide/function#controlling_retracing and https://www.tensorflow.org/api_docs/python/tf/function for  more details.\n",
      "Found 224 images belonging to 1 classes.\n"
     ]
    },
    {
     "data": {
      "text/html": [
       "<div>\n",
       "<style scoped>\n",
       "    .dataframe tbody tr th:only-of-type {\n",
       "        vertical-align: middle;\n",
       "    }\n",
       "\n",
       "    .dataframe tbody tr th {\n",
       "        vertical-align: top;\n",
       "    }\n",
       "\n",
       "    .dataframe thead th {\n",
       "        text-align: right;\n",
       "    }\n",
       "</style>\n",
       "<table border=\"1\" class=\"dataframe\">\n",
       "  <thead>\n",
       "    <tr style=\"text-align: right;\">\n",
       "      <th></th>\n",
       "      <th>predicted no</th>\n",
       "      <th>predicted yes</th>\n",
       "    </tr>\n",
       "  </thead>\n",
       "  <tbody>\n",
       "    <tr>\n",
       "      <th>true yes</th>\n",
       "      <td>7</td>\n",
       "      <td>208</td>\n",
       "    </tr>\n",
       "    <tr>\n",
       "      <th>true no</th>\n",
       "      <td>220</td>\n",
       "      <td>4</td>\n",
       "    </tr>\n",
       "  </tbody>\n",
       "</table>\n",
       "</div>"
      ],
      "text/plain": [
       "          predicted no  predicted yes\n",
       "true yes             7            208\n",
       "true no            220              4"
      ]
     },
     "metadata": {},
     "output_type": "display_data"
    },
    {
     "name": "stdout",
     "output_type": "stream",
     "text": [
      "\n",
      "End of Iteration 4/5\n",
      "\n",
      "###########################################################\n",
      "\n",
      "Start of Iteration 5/5\n",
      "00:15:32\n",
      "\n",
      "Final number of images in mask_detection_random/yes: 4080\n",
      "Final number of images in test_rand/yes/images: 215\n",
      "Final number of images in mask_detection_random/no: 4241\n",
      "Final number of images in test_rand/no/images: 224\n",
      "\n",
      "Found 8321 files belonging to 2 classes.\n",
      "Using 6657 files for training.\n",
      "Found 8321 files belonging to 2 classes.\n",
      "Using 1664 files for validation.\n",
      "\n",
      "Started model iteration 5/5\n",
      "Completed model iteration 5/5\n",
      "\n",
      "Found 215 images belonging to 1 classes.\n",
      "WARNING:tensorflow:6 out of the last 11 calls to <function Model.make_predict_function.<locals>.predict_function at 0x0000021281152790> triggered tf.function retracing. Tracing is expensive and the excessive number of tracings could be due to (1) creating @tf.function repeatedly in a loop, (2) passing tensors with different shapes, (3) passing Python objects instead of tensors. For (1), please define your @tf.function outside of the loop. For (2), @tf.function has experimental_relax_shapes=True option that relaxes argument shapes that can avoid unnecessary retracing. For (3), please refer to https://www.tensorflow.org/guide/function#controlling_retracing and https://www.tensorflow.org/api_docs/python/tf/function for  more details.\n",
      "Found 224 images belonging to 1 classes.\n"
     ]
    },
    {
     "data": {
      "text/html": [
       "<div>\n",
       "<style scoped>\n",
       "    .dataframe tbody tr th:only-of-type {\n",
       "        vertical-align: middle;\n",
       "    }\n",
       "\n",
       "    .dataframe tbody tr th {\n",
       "        vertical-align: top;\n",
       "    }\n",
       "\n",
       "    .dataframe thead th {\n",
       "        text-align: right;\n",
       "    }\n",
       "</style>\n",
       "<table border=\"1\" class=\"dataframe\">\n",
       "  <thead>\n",
       "    <tr style=\"text-align: right;\">\n",
       "      <th></th>\n",
       "      <th>predicted no</th>\n",
       "      <th>predicted yes</th>\n",
       "    </tr>\n",
       "  </thead>\n",
       "  <tbody>\n",
       "    <tr>\n",
       "      <th>true yes</th>\n",
       "      <td>1</td>\n",
       "      <td>214</td>\n",
       "    </tr>\n",
       "    <tr>\n",
       "      <th>true no</th>\n",
       "      <td>222</td>\n",
       "      <td>2</td>\n",
       "    </tr>\n",
       "  </tbody>\n",
       "</table>\n",
       "</div>"
      ],
      "text/plain": [
       "          predicted no  predicted yes\n",
       "true yes             1            214\n",
       "true no            222              2"
      ]
     },
     "metadata": {},
     "output_type": "display_data"
    },
    {
     "name": "stdout",
     "output_type": "stream",
     "text": [
      "\n",
      "End of Iteration 5/5\n",
      "\n",
      "\n",
      "###########################################################\n",
      "\n",
      "Total Prediction Matrix:\n"
     ]
    },
    {
     "data": {
      "text/html": [
       "<div>\n",
       "<style scoped>\n",
       "    .dataframe tbody tr th:only-of-type {\n",
       "        vertical-align: middle;\n",
       "    }\n",
       "\n",
       "    .dataframe tbody tr th {\n",
       "        vertical-align: top;\n",
       "    }\n",
       "\n",
       "    .dataframe thead th {\n",
       "        text-align: right;\n",
       "    }\n",
       "</style>\n",
       "<table border=\"1\" class=\"dataframe\">\n",
       "  <thead>\n",
       "    <tr style=\"text-align: right;\">\n",
       "      <th></th>\n",
       "      <th>predicted no</th>\n",
       "      <th>predicted yes</th>\n",
       "    </tr>\n",
       "  </thead>\n",
       "  <tbody>\n",
       "    <tr>\n",
       "      <th>true yes</th>\n",
       "      <td>29</td>\n",
       "      <td>1046</td>\n",
       "    </tr>\n",
       "    <tr>\n",
       "      <th>true no</th>\n",
       "      <td>1088</td>\n",
       "      <td>32</td>\n",
       "    </tr>\n",
       "  </tbody>\n",
       "</table>\n",
       "</div>"
      ],
      "text/plain": [
       "          predicted no  predicted yes\n",
       "true yes            29           1046\n",
       "true no           1088             32"
      ]
     },
     "metadata": {},
     "output_type": "display_data"
    },
    {
     "name": "stdout",
     "output_type": "stream",
     "text": [
      "###########################################################\n"
     ]
    }
   ],
   "source": [
    "# number of iterations to run\n",
    "iterations = 5\n",
    "#number of epochs per iteration\n",
    "epochs = 15\n",
    "\n",
    "#empty array to append individual iteration results into\n",
    "iterTestTrueYes = []\n",
    "iterTestPredYes = []\n",
    "iterTestTrueNo = []\n",
    "iterTestPredNo = []\n",
    "\n",
    "# directories\n",
    "srcDirYes = 'yes/'\n",
    "srcDirNo = 'no/'\n",
    "trainDirYes = 'mask_detection_random/yes'\n",
    "testDirYesMove = 'test_rand/yes/images'\n",
    "testDirYes = 'test_rand/yes/'\n",
    "trainDirNo = 'mask_detection_random/no'\n",
    "testDirNoMove = 'test_rand/no/images'\n",
    "testDirNo = 'test_rand/no/'\n",
    "splitFrac = 0.95\n",
    "srcDir = 'mask_detection_random/'\n",
    "testDir = 'test_rand/'\n",
    "\n",
    "# Loops through randomMove, split, cnnModel, predictData functions for the number of iterations\n",
    "for i in range(iterations):\n",
    "    print('###########################################################')\n",
    "    \n",
    "    print()\n",
    "    print(f\"Start of Iteration {i+1}/{iterations}\")\n",
    "    # Iteration start time\n",
    "    t = time.localtime()\n",
    "    current_time = time.strftime(\"%H:%M:%S\", t)\n",
    "    print(current_time)\n",
    "    print()\n",
    "    \n",
    "    # Randomly moves files\n",
    "    randomMove(srcDirYes, trainDirYes, testDirYesMove, splitFrac)\n",
    "    randomMove(srcDirNo, trainDirNo, testDirNoMove, splitFrac)\n",
    "    print()\n",
    "    \n",
    "    # Train validation split\n",
    "    maskTrain, maskVal = split(srcDir)\n",
    "    print()\n",
    "    \n",
    "    print(f\"Started model iteration {i+1}/{iterations}\")\n",
    "    # Compile and fit model\n",
    "    history = cnnModel(maskTrain, maskVal, epochs, 0)\n",
    "    print(f\"Completed model iteration {i+1}/{iterations}\")\n",
    "    print()\n",
    "    \n",
    "    # predicts the test data on the trained model\n",
    "    test_trueYes, test_trueNo, test_predYes, test_predNo = predictData(testDirYes, testDirNo)\n",
    "    \n",
    "    # Concatenate the test results for the iteration into the empty array\n",
    "    iterTestTrueYes = np.concatenate((iterTestTrueYes, test_trueYes))\n",
    "    iterTestPredYes = np.concatenate((iterTestPredYes, test_predYes))\n",
    "    iterTestTrueNo = np.concatenate((iterTestTrueNo, test_trueNo))\n",
    "    iterTestPredNo = np.concatenate((iterTestPredNo, test_predNo))\n",
    "    print()\n",
    "    \n",
    "    print(f\"End of Iteration {i+1}/{iterations}\")\n",
    "    print()\n",
    "    \n",
    "\n",
    "print()\n",
    "print('###########################################################')\n",
    "print()\n",
    "print(\"Total Prediction Matrix:\")\n",
    "# Creates a matrix using all the results from the iteration arrays\n",
    "\n",
    "# Creates a confusion matrix for the yes data\n",
    "iterMatrixYes = pd.DataFrame(confusion_matrix(iterTestTrueYes, iterTestPredYes),\n",
    "            index = ['true yes',''],\n",
    "            columns =  ['predicted no','predicted yes'])\n",
    "# Grabs the first row of the matrix\n",
    "iterMatrixYes = iterMatrixYes[0:1]\n",
    "\n",
    "# Creates a confusion matrix for the yes data\n",
    "iterMatrixNo = pd.DataFrame(confusion_matrix(iterTestTrueNo, iterTestPredNo),\n",
    "            index = ['true no',''],\n",
    "            columns =  ['predicted no','predicted yes'])\n",
    "# Grabs the first row of the matrix\n",
    "iterMatrixNo = iterMatrixNo[0:1]\n",
    "\n",
    "# Combines the rows from the yes and no matrices\n",
    "itermatrix = pd.concat([iterMatrixYes,iterMatrixNo])\n",
    "display(itermatrix)\n",
    "print('###########################################################')"
   ]
  },
  {
   "cell_type": "markdown",
   "metadata": {},
   "source": [
    "### Next Steps"
   ]
  },
  {
   "cell_type": "markdown",
   "metadata": {},
   "source": [
    "The next steps for this project are to investigate the class imbalance to see if it is effecting the validation performance and the results. Testing with less dropouts in the model architecture is something else to be tested. A function to isolate the wrongly classified images should also be written so that they can be inspected for common factors. Finally applying this model to raw video is the ultimate goal and would make it applicable to real world issues."
   ]
  }
 ],
 "metadata": {
  "kernelspec": {
   "display_name": "deeplearning",
   "language": "python",
   "name": "deeplearning"
  },
  "language_info": {
   "codemirror_mode": {
    "name": "ipython",
    "version": 3
   },
   "file_extension": ".py",
   "mimetype": "text/x-python",
   "name": "python",
   "nbconvert_exporter": "python",
   "pygments_lexer": "ipython3",
   "version": "3.8.5"
  }
 },
 "nbformat": 4,
 "nbformat_minor": 4
}
