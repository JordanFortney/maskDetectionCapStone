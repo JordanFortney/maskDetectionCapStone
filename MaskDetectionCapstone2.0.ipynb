{
 "cells": [
  {
   "cell_type": "code",
   "execution_count": 22,
   "metadata": {},
   "outputs": [],
   "source": [
    "#Baseline utility packages\n",
    "import numpy as np\n",
    "import pandas as pd\n",
    "import tensorflow as tf\n",
    "from  matplotlib import pyplot as plt\n",
    "#CNN packages\n",
    "from tensorflow import keras\n",
    "from tensorflow.keras import layers\n",
    "from tensorflow.keras.models import Sequential\n",
    "from tensorflow.keras.preprocessing.image import ImageDataGenerator\n",
    "from tensorflow.keras.applications.mobilenet import preprocess_input\n",
    "# Performance Metrics\n",
    "from sklearn.metrics import confusion_matrix\n",
    "from sklearn.metrics import accuracy_score"
   ]
  },
  {
   "cell_type": "code",
   "execution_count": 2,
   "metadata": {},
   "outputs": [],
   "source": [
    "directory = 'mask_detection/'"
   ]
  },
  {
   "cell_type": "code",
   "execution_count": 3,
   "metadata": {},
   "outputs": [
    {
     "name": "stdout",
     "output_type": "stream",
     "text": [
      "Found 2356 files belonging to 2 classes.\n",
      "Using 1650 files for training.\n"
     ]
    }
   ],
   "source": [
    "maskTrain = tf.keras.preprocessing.image_dataset_from_directory(\n",
    "    directory,\n",
    "    validation_split=0.3,\n",
    "    subset=\"training\",\n",
    "    labels=\"inferred\",\n",
    "    label_mode=\"int\",\n",
    "    color_mode=\"rgb\",\n",
    "    batch_size=32,\n",
    "    image_size=(152, 152),\n",
    "    shuffle=True,\n",
    "    seed = 12,\n",
    "    interpolation=\"bilinear\"\n",
    ")"
   ]
  },
  {
   "cell_type": "code",
   "execution_count": 4,
   "metadata": {},
   "outputs": [
    {
     "name": "stdout",
     "output_type": "stream",
     "text": [
      "Found 2356 files belonging to 2 classes.\n",
      "Using 706 files for validation.\n"
     ]
    }
   ],
   "source": [
    "maskVal = tf.keras.preprocessing.image_dataset_from_directory(\n",
    "    directory,\n",
    "    validation_split=0.3,\n",
    "    subset=\"validation\",\n",
    "    labels=\"inferred\",\n",
    "    label_mode=\"int\",\n",
    "    color_mode=\"rgb\",\n",
    "    batch_size=32,\n",
    "    image_size=(152, 152),\n",
    "    shuffle=True,\n",
    "    seed = 12,\n",
    "    interpolation=\"bilinear\"\n",
    ")"
   ]
  },
  {
   "cell_type": "code",
   "execution_count": 5,
   "metadata": {},
   "outputs": [
    {
     "name": "stdout",
     "output_type": "stream",
     "text": [
      "Model: \"sequential\"\n",
      "_________________________________________________________________\n",
      "Layer (type)                 Output Shape              Param #   \n",
      "=================================================================\n",
      "rescaling (Rescaling)        (None, 152, 152, 3)       0         \n",
      "_________________________________________________________________\n",
      "conv2d (Conv2D)              (None, 150, 150, 32)      896       \n",
      "_________________________________________________________________\n",
      "conv2d_1 (Conv2D)            (None, 148, 148, 64)      18496     \n",
      "_________________________________________________________________\n",
      "max_pooling2d (MaxPooling2D) (None, 74, 74, 64)        0         \n",
      "_________________________________________________________________\n",
      "dropout (Dropout)            (None, 74, 74, 64)        0         \n",
      "_________________________________________________________________\n",
      "flatten (Flatten)            (None, 350464)            0         \n",
      "_________________________________________________________________\n",
      "dense (Dense)                (None, 128)               44859520  \n",
      "_________________________________________________________________\n",
      "dropout_1 (Dropout)          (None, 128)               0         \n",
      "_________________________________________________________________\n",
      "dense_1 (Dense)              (None, 2)                 258       \n",
      "=================================================================\n",
      "Total params: 44,879,170\n",
      "Trainable params: 44,879,170\n",
      "Non-trainable params: 0\n",
      "_________________________________________________________________\n"
     ]
    }
   ],
   "source": [
    "maskModelCNN = Sequential()\n",
    "\n",
    "maskModelCNN.add(layers.experimental.preprocessing.Rescaling(1./255, input_shape=(152, 152, 3)),)\n",
    "maskModelCNN.add(layers.Conv2D(32, kernel_size=(3, 3), activation = 'relu'))\n",
    "maskModelCNN.add(layers.Conv2D(64, (3, 3), activation='relu'))\n",
    "maskModelCNN.add(layers.MaxPooling2D(pool_size=(2, 2)))\n",
    "\n",
    "maskModelCNN.add(layers.Dropout(0.25))\n",
    "maskModelCNN.add(layers.Flatten())\n",
    "maskModelCNN.add(layers.Dense(128, activation='relu'))\n",
    "maskModelCNN.add(layers.Dropout(0.5))\n",
    "maskModelCNN.add(layers.Dense(2, activation='softmax'))\n",
    "\n",
    "# Print out a summary of the network\n",
    "maskModelCNN.summary()"
   ]
  },
  {
   "cell_type": "code",
   "execution_count": 6,
   "metadata": {},
   "outputs": [],
   "source": [
    "maskModelCNN.compile(loss = 'sparse_categorical_crossentropy',\n",
    "                  optimizer = 'Adam',\n",
    "                  metrics = ['accuracy'])"
   ]
  },
  {
   "cell_type": "code",
   "execution_count": 7,
   "metadata": {},
   "outputs": [
    {
     "name": "stdout",
     "output_type": "stream",
     "text": [
      "Epoch 1/10\n",
      "52/52 [==============================] - 59s 1s/step - loss: 2.8737 - accuracy: 0.5195 - val_loss: 0.6617 - val_accuracy: 0.6303\n",
      "Epoch 2/10\n",
      "52/52 [==============================] - 57s 1s/step - loss: 0.6302 - accuracy: 0.6386 - val_loss: 0.6676 - val_accuracy: 0.6643\n",
      "Epoch 3/10\n",
      "52/52 [==============================] - 57s 1s/step - loss: 0.5693 - accuracy: 0.7303 - val_loss: 0.6486 - val_accuracy: 0.6402\n",
      "Epoch 4/10\n",
      "52/52 [==============================] - 56s 1s/step - loss: 0.4634 - accuracy: 0.7916 - val_loss: 0.7011 - val_accuracy: 0.6586\n",
      "Epoch 5/10\n",
      "52/52 [==============================] - 56s 1s/step - loss: 0.2802 - accuracy: 0.8844 - val_loss: 0.8088 - val_accuracy: 0.6586\n",
      "Epoch 6/10\n",
      "52/52 [==============================] - 57s 1s/step - loss: 0.1184 - accuracy: 0.9549 - val_loss: 0.9436 - val_accuracy: 0.6530\n",
      "Epoch 7/10\n",
      "52/52 [==============================] - 56s 1s/step - loss: 0.0702 - accuracy: 0.9761 - val_loss: 1.1413 - val_accuracy: 0.6700\n",
      "Epoch 8/10\n",
      "52/52 [==============================] - 56s 1s/step - loss: 0.0357 - accuracy: 0.9894 - val_loss: 1.1642 - val_accuracy: 0.6728\n",
      "Epoch 9/10\n",
      "52/52 [==============================] - 57s 1s/step - loss: 0.0260 - accuracy: 0.9950 - val_loss: 1.3404 - val_accuracy: 0.6714\n",
      "Epoch 10/10\n",
      "52/52 [==============================] - 57s 1s/step - loss: 0.0264 - accuracy: 0.9890 - val_loss: 1.3848 - val_accuracy: 0.6671\n"
     ]
    }
   ],
   "source": [
    "history = maskModelCNN.fit(maskTrain,\n",
    "              epochs = 10,\n",
    "              verbose = 1,\n",
    "              validation_data = maskVal)"
   ]
  },
  {
   "cell_type": "code",
   "execution_count": 8,
   "metadata": {},
   "outputs": [
    {
     "data": {
      "image/png": "[encoded data removed]",
      "text/plain": [
       "<Figure size 432x288 with 1 Axes>"
      ]
     },
     "metadata": {
      "needs_background": "light"
     },
     "output_type": "display_data"
    }
   ],
   "source": [
    "plt.figure()\n",
    "plt.plot(history.history['loss'], marker='*', label='loss')\n",
    "plt.plot(history.history['accuracy'], marker='*', label='accuracy')\n",
    "plt.title('Training Accuracy and Loss')\n",
    "plt.legend(loc='best')\n",
    "plt.xlabel('Epoch')\n",
    "plt.ylabel('Accuracy / Loss')\n",
    "plt.show()"
   ]
  },
  {
   "cell_type": "code",
   "execution_count": 9,
   "metadata": {},
   "outputs": [
    {
     "data": {
      "image/png": "[encoded data removed]",
      "text/plain": [
       "<Figure size 576x576 with 2 Axes>"
      ]
     },
     "metadata": {
      "needs_background": "light"
     },
     "output_type": "display_data"
    }
   ],
   "source": [
    "trainAccuracyCNNModel = history.history['accuracy']\n",
    "valAccuracyCNNModel = history.history['val_accuracy']\n",
    "\n",
    "trainLossCNNModel = history.history['loss']\n",
    "valLossCNNModel = history.history['val_loss']\n",
    "\n",
    "epochs_range = range(0,10)\n",
    "\n",
    "plt.figure(figsize=(8, 8))\n",
    "plt.subplot(1, 2, 1)\n",
    "plt.plot(epochs_range, trainAccuracyCNNModel, label='Training Accuracy')\n",
    "plt.plot(epochs_range, valAccuracyCNNModel, label='Validation Accuracy')\n",
    "plt.legend()\n",
    "plt.title('Training and Validation Accuracy')\n",
    "\n",
    "plt.subplot(1, 2, 2)\n",
    "plt.plot(epochs_range, trainLossCNNModel, label='Training Loss')\n",
    "plt.plot(epochs_range, valLossCNNModel, label='Validation Loss')\n",
    "plt.legend()\n",
    "plt.title('Training and Validation Loss')\n",
    "plt.show()\n"
   ]
  },
  {
   "cell_type": "code",
   "execution_count": 10,
   "metadata": {},
   "outputs": [],
   "source": [
    "testGen = ImageDataGenerator(preprocessing_function=preprocess_input)"
   ]
  },
  {
   "cell_type": "code",
   "execution_count": 19,
   "metadata": {},
   "outputs": [
    {
     "name": "stdout",
     "output_type": "stream",
     "text": [
      "Found 26 images belonging to 2 classes.\n"
     ]
    }
   ],
   "source": [
    "testMaskGen = testGen.flow_from_directory('test/', # path to the training data folder\n",
    "                                                 target_size=(152,152),\n",
    "                                                 color_mode='rgb',\n",
    "                                                 batch_size=32,\n",
    "                                                 class_mode='categorical',\n",
    "                                                 shuffle=True)"
   ]
  },
  {
   "cell_type": "code",
   "execution_count": 20,
   "metadata": {},
   "outputs": [],
   "source": [
    "prediction = maskModelCNN.predict_generator(testMaskGen, steps = 1)"
   ]
  },
  {
   "cell_type": "code",
   "execution_count": 21,
   "metadata": {},
   "outputs": [],
   "source": [
    "test_true = testMaskGen.classes\n",
    "test_pred = prediction.argmax(axis=1)"
   ]
  },
  {
   "cell_type": "code",
   "execution_count": 24,
   "metadata": {},
   "outputs": [
    {
     "data": {
      "text/html": [
       "<div>\n",
       "<style scoped>\n",
       "    .dataframe tbody tr th:only-of-type {\n",
       "        vertical-align: middle;\n",
       "    }\n",
       "\n",
       "    .dataframe tbody tr th {\n",
       "        vertical-align: top;\n",
       "    }\n",
       "\n",
       "    .dataframe thead th {\n",
       "        text-align: right;\n",
       "    }\n",
       "</style>\n",
       "<table border=\"1\" class=\"dataframe\">\n",
       "  <thead>\n",
       "    <tr style=\"text-align: right;\">\n",
       "      <th></th>\n",
       "      <th>predicted no</th>\n",
       "      <th>predicted yes</th>\n",
       "    </tr>\n",
       "  </thead>\n",
       "  <tbody>\n",
       "    <tr>\n",
       "      <th>true no</th>\n",
       "      <td>13</td>\n",
       "      <td>0</td>\n",
       "    </tr>\n",
       "    <tr>\n",
       "      <th>true yes</th>\n",
       "      <td>13</td>\n",
       "      <td>0</td>\n",
       "    </tr>\n",
       "  </tbody>\n",
       "</table>\n",
       "</div>"
      ],
      "text/plain": [
       "          predicted no  predicted yes\n",
       "true no             13              0\n",
       "true yes            13              0"
      ]
     },
     "execution_count": 24,
     "metadata": {},
     "output_type": "execute_result"
    }
   ],
   "source": [
    "pd.DataFrame(confusion_matrix(test_true,test_pred),\n",
    "            index = ['true no','true yes'],\n",
    "            columns =  ['predicted no','predicted yes'])"
   ]
  },
  {
   "cell_type": "code",
   "execution_count": 25,
   "metadata": {},
   "outputs": [
    {
     "data": {
      "text/plain": [
       "0.5"
      ]
     },
     "execution_count": 25,
     "metadata": {},
     "output_type": "execute_result"
    }
   ],
   "source": [
    "accuracy_score(test_true,test_pred)"
   ]
  }
 ],
 "metadata": {
  "kernelspec": {
   "display_name": "deeplearning",
   "language": "python",
   "name": "deeplearning"
  },
  "language_info": {
   "codemirror_mode": {
    "name": "ipython",
    "version": 3
   },
   "file_extension": ".py",
   "mimetype": "text/x-python",
   "name": "python",
   "nbconvert_exporter": "python",
   "pygments_lexer": "ipython3",
   "version": "3.8.5"
  }
 },
 "nbformat": 4,
 "nbformat_minor": 4
}
